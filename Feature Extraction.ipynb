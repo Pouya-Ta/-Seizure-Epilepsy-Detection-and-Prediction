{
 "cells": [
  {
   "cell_type": "markdown",
   "id": "bac098f4",
   "metadata": {},
   "source": [
    "# Final bachelor's Project\n",
    "## Section two: EEG Epilepsy Feature Extraction\n",
    "### Author: Pouya Taghipour\n",
    "### Studend ID: 9933014\n",
    "### Supervisors: \n",
    "- Dr. Farnaz Ghassemi\n",
    "- Dr. Fatemeh Zare\n",
    "- Dr. Zahra Tabanfar\n",
    "### Date: Summer 2024"
   ]
  },
  {
   "cell_type": "markdown",
   "id": "f42faebe",
   "metadata": {},
   "source": [
    "# Feature Extraction for Seizure Prediction\n",
    "In this section, we'll focus on extracting relevant features from the preprocessed EEG data. These features will be used for training machine learning models for seizure detection and prediction.\n",
    "\n",
    "## Importing Necessary Libraries\n",
    "First, we'll import the libraries required for feature extraction."
   ]
  },
  {
   "cell_type": "code",
   "execution_count": null,
   "id": "3943d39d",
   "metadata": {},
   "outputs": [],
   "source": [
    "import numpy as np\n",
    "import pandas as pd\n",
    "import mne\n",
    "from scipy.stats import entropy\n",
    "from scipy.signal import welch\n",
    "\n",
    "# Load preprocessed data\n",
    "preprocessed_file_path = 'path_to_preprocessed_data.fif'\n",
    "preprocessed_data = mne.io.read_raw_fif(preprocessed_file_path, preload=True)"
   ]
  },
  {
   "cell_type": "markdown",
   "id": "fe105e99",
   "metadata": {},
   "source": [
    "## Feature Extraction Methods\n",
    "### Time-Domain Features\n",
    "#### Mean and Standard Deviation\n",
    "Calculate the mean and standard deviation of the EEG signal, which are simple but effective statistical features."
   ]
  },
  {
   "cell_type": "code",
   "execution_count": null,
   "id": "6baa70ec",
   "metadata": {},
   "outputs": [],
   "source": [
    "def extract_time_domain_features(data):\n",
    "    mean_values = np.mean(data, axis=1)\n",
    "    std_values = np.std(data, axis=1)\n",
    "    return mean_values, std_values\n",
    "\n",
    "# Extracting time-domain features\n",
    "mean_features, std_features = extract_time_domain_features(preprocessed_data.get_data())"
   ]
  },
  {
   "cell_type": "markdown",
   "id": "8ceda4d5",
   "metadata": {},
   "source": [
    "### Frequency-Domain Features\n",
    "#### Power Spectral Density (PSD)\n",
    "Use the Welch method to calculate the power spectral density (PSD) of the EEG signal. This feature helps in identifying the distribution of power across different frequency bands."
   ]
  },
  {
   "cell_type": "code",
   "execution_count": null,
   "id": "f558ea9e",
   "metadata": {},
   "outputs": [],
   "source": [
    "def extract_psd_features(data, sfreq, nperseg=256):\n",
    "    psd_features = []\n",
    "    for channel_data in data:\n",
    "        freqs, psd = welch(channel_data, sfreq, nperseg=nperseg)\n",
    "        psd_features.append(psd)\n",
    "    return np.array(psd_features)\n",
    "\n",
    "# Extracting PSD features\n",
    "psd_features = extract_psd_features(preprocessed_data.get_data(), preprocessed_data.info['sfreq'])\n"
   ]
  },
  {
   "cell_type": "markdown",
   "id": "22d181d9",
   "metadata": {},
   "source": [
    "#### Band Power\n",
    "Extract the power in specific frequency bands (e.g., delta, theta, alpha, beta) which are known to be informative for EEG analysis."
   ]
  },
  {
   "cell_type": "code",
   "execution_count": null,
   "id": "63f5ba05",
   "metadata": {},
   "outputs": [],
   "source": [
    "def bandpower(data, sfreq, band, window_sec=4, relative=False):\n",
    "    band = np.asarray(band)\n",
    "    low, high = band\n",
    "\n",
    "    psd, freqs = welch(data, sfreq, nperseg=window_sec*sfreq)\n",
    "\n",
    "    freq_res = freqs[1] - freqs[0]\n",
    "    idx_band = np.logical_and(freqs >= low, freqs <= high)\n",
    "\n",
    "    band_power = np.sum(psd[:, idx_band], axis=1) * freq_res\n",
    "\n",
    "    if relative:\n",
    "        band_power /= np.sum(psd, axis=1) * freq_res\n",
    "\n",
    "    return band_power\n",
    "\n",
    "# Extracting band power for different frequency bands\n",
    "delta_power = bandpower(preprocessed_data.get_data(), preprocessed_data.info['sfreq'], [0.5, 4])\n",
    "theta_power = bandpower(preprocessed_data.get_data(), preprocessed_data.info['sfreq'], [4, 8])\n",
    "alpha_power = bandpower(preprocessed_data.get_data(), preprocessed_data.info['sfreq'], [8, 13])\n",
    "beta_power = bandpower(preprocessed_data.get_data(), preprocessed_data.info['sfreq'], [13, 30])"
   ]
  },
  {
   "cell_type": "markdown",
   "id": "28116788",
   "metadata": {},
   "source": [
    "### Non-linear Features\n",
    "#### Entropy\n",
    "Entropy measures the randomness in the EEG signal, which can be an important feature in distinguishing between normal and seizure states."
   ]
  },
  {
   "cell_type": "code",
   "execution_count": null,
   "id": "a6f45af6",
   "metadata": {},
   "outputs": [],
   "source": [
    "def extract_entropy(data):\n",
    "    entropies = []\n",
    "    for channel_data in data:\n",
    "        ent = entropy(np.abs(channel_data))\n",
    "        entropies.append(ent)\n",
    "    return np.array(entropies)\n",
    "\n",
    "# Extracting entropy features\n",
    "entropy_features = extract_entropy(preprocessed_data.get_data())"
   ]
  },
  {
   "cell_type": "markdown",
   "id": "c65906ff",
   "metadata": {},
   "source": [
    "## Combining Features\n",
    "After extracting individual features, we can combine them into a feature matrix, which can be used as input for machine learning models."
   ]
  },
  {
   "cell_type": "code",
   "execution_count": null,
   "id": "9b4bf7fc",
   "metadata": {},
   "outputs": [],
   "source": [
    "# Combine all features into a single feature matrix\n",
    "feature_matrix = np.column_stack((mean_features, std_features, delta_power, theta_power, alpha_power, beta_power, entropy_features))\n",
    "\n",
    "# Convert to DataFrame for better handling\n",
    "feature_df = pd.DataFrame(feature_matrix, columns=['Mean', 'Std', 'Delta Power', 'Theta Power', 'Alpha Power', 'Beta Power', 'Entropy'])\n",
    "\n",
    "# Save the feature matrix to a CSV file\n",
    "feature_df.to_csv('extracted_features.csv', index=False)"
   ]
  },
  {
   "cell_type": "markdown",
   "id": "c6e523a5",
   "metadata": {},
   "source": [
    "## Conclusion\n",
    "We have successfully extracted several key features from the EEG data, including time-domain, frequency-domain, and non-linear features. These features are now ready to be used for training machine learning models to detect and predict seizures."
   ]
  },
  {
   "cell_type": "code",
   "execution_count": null,
   "id": "8adf2811",
   "metadata": {},
   "outputs": [],
   "source": []
  }
 ],
 "metadata": {
  "kernelspec": {
   "display_name": "Python 3 (ipykernel)",
   "language": "python",
   "name": "python3"
  },
  "language_info": {
   "codemirror_mode": {
    "name": "ipython",
    "version": 3
   },
   "file_extension": ".py",
   "mimetype": "text/x-python",
   "name": "python",
   "nbconvert_exporter": "python",
   "pygments_lexer": "ipython3",
   "version": "3.10.9"
  }
 },
 "nbformat": 4,
 "nbformat_minor": 5
}
